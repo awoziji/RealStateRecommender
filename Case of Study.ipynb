{
 "cells": [
  {
   "cell_type": "markdown",
   "metadata": {},
   "source": [
    "# CASO DE ESTUDIO"
   ]
  },
  {
   "cell_type": "markdown",
   "metadata": {},
   "source": [
    "La empresa x quiere implementar una herramienta que permita recomendar a sus usuarios un inmueble a partir de la información que este seleccione desde un formulario con preguntas ya establecidas por la entidad. Basado en las respuestas que escogió el usuario, la herramienta debe mostrar un listado con por lo menos 5 recomendaciones que se ajusten al usuario en orden de mayor a menor probabilidad de acierto para el gusto del usuario. En todos los casos se debe mostrar mínimo 5 recomendaciones así la posibilidad de que el usuario este a gusto con la recomendación sea cercana a cero.\n",
    "\n",
    "Es importante resaltar que la empresa apenas inicia en el negocio, por esta razón no se cuenta con información alguna de casos de elección de los usuarios para tomar como base para análisis y por consiguiente no se tiene feedback alguno. Los únicos datos con que se cuentan son los relacionados con los inmuebles que es el producto final que se quiere comerciar."
   ]
  },
  {
   "cell_type": "markdown",
   "metadata": {},
   "source": [
    "## ANÁLISIS Y SOLUCIÓN"
   ]
  },
  {
   "cell_type": "markdown",
   "metadata": {},
   "source": [
    "__Analice el problema y defina qué campo de la inteligencia artificial usaría para abordar el tema y el porqué de su elección.__"
   ]
  },
  {
   "cell_type": "markdown",
   "metadata": {},
   "source": [
    "_Teniendo en cuenta que no se tiene feedback alguno del proceso de elección de los usuarios, es necesario considerar la aplicación de algoritmos de tipo __no-supervisado__, ya que estos son capaces de encontrar patrones dentro de la data cuando no se cuenta con una variable de tipo clase._"
   ]
  },
  {
   "cell_type": "markdown",
   "metadata": {},
   "source": [
    "__Cuál o cuáles métodos se ajustan más a la solución que propone en el campo de la inteligencia artificial elegido y explique el porqué de su elección.__"
   ]
  },
  {
   "cell_type": "markdown",
   "metadata": {},
   "source": [
    "_De acuerdo a lo anterior, la metodología seleccionada para aplicar sobre la data es la de __clustering__, cuyo objetivo es el de construir grupos (clusters) de datos que siguen un mismo patrón. Esto quiere decir, que para el caso de estudio, el algoritmo se encarga de crear grupos de inmuebles similares._\n",
    "\n",
    "_El algoritmo para la creación de clusters será el __K-means__, que consiste en división de las observaciones (los inmuebles) en un número determinado de clusters, en donde cada observación pertenece al cluster al que más se aproxime según la distancia euclediana._"
   ]
  },
  {
   "cell_type": "markdown",
   "metadata": {},
   "source": [
    "__La encuesta debe contener mínino 7 preguntas y máximo 12 preguntas (las preguntas son indiferentes, por esto no es necesario crear preguntas, pero si lo cree necesario escríbalas para dar sustento a su análisis). Sugiera cuantas características debería tener cada pregunta de la encuesta, se deben usar variables de tipo numéricas, tipo nominal y tipo SI/NO.__"
   ]
  },
  {
   "cell_type": "markdown",
   "metadata": {},
   "source": [
    "_Teniendo que en la actualidad existen diferentes herramientas que permiten filtrar los inmuebles disponibles basados en los aspectos técnicos de preferencia del usuario, se decidió que con el objetivo de lograr una mayor compatibilidad entre clientes e inmuebles se deben tener en cuenta tanto los aspectos técnicos como los sentimentales (las prioridades)._\n",
    "\n",
    "_Por lo anterior, se sugiere que la encuesta tenga dos secciones distintas, así:_\n",
    "- ___Sección técnica:___ _Dentro de esta sección se encuentran entre 6 y 7 preguntas, cuyo objetivo es conocer los requerimientos físicos y explícitos de cada cliente, como lo es el número de habitaciones o el tipo de vivienda. Teniendo en cuenta que la creación de los clusters se hace usando valores numericos, se sugiere que las variables sean de tipo numerico siempre que sea posible. No obstante, y con el fin de no confundir a los clientes, algunas variables pueden ser de tipo nominal, como lo es por ejemplo el tipo de inmueble (\"casa\" o \"apartamento\"). En estos casos, se realiza un trabajo de pre procesamento donde se convierten las variables nominales, en numéricas (ej: \"casa\" = 1, \"apartamento\" = 0)._<br><br>\n",
    "- ___Sección de prioridades:___ _En esta sección el objetivo es conocer cuáles variables, a la hora de escoger un inmueble, son más importantes para el cliente. En el presente estudio se tienen en cuenta 5 variables (años de construido, amplitud, precio, ubicación y zonas verdes), las cuales el cliente debe organizar de 1 a 5, siendo 1 la que más tiene en cuenta a la hora de seleccionar un inmueble._"
   ]
  },
  {
   "cell_type": "markdown",
   "metadata": {},
   "source": [
    "__Basado en el punto anterior proponga un modelo que permita solucionar el caso de estudio y explique cuál es la importancia de cada ítem del modelo, cuanto aporta porcentualmente cada ítem al modelo y cuál fue la razón de asignarle esos pesos a cada uno.__"
   ]
  },
  {
   "cell_type": "markdown",
   "metadata": {},
   "source": [
    "_Para la elaboración del presente modelo se extrajeron los datos de 5710 inmuebles de la página www.metrocuadrado.com. Los datos disponibles de cada inmueble, los cuales fueron convertidos a variables numéricas cuando era necesario, se encuentran a continuación:_\n",
    "\n",
    "- ___Tipo de inmueble:___ _Casa (1), Apartamento (0)._\n",
    "- ___Años de construido:___ _En construcción (5), Para estrenar (4), Entre 0 y 5 años (3), Entre 5 y 10 años (2), Entre 10 y 20 años (1), Más de 20 años (0)._\n",
    "- ___Área:___ _Se dejó el valor indicado en cada inmueble. Se eliminó el ruido._\n",
    "- ___Habitaciones___\n",
    "- ___Baños___\n",
    "- ___Parqueaderos___\n",
    "- ___Estrato___\n",
    "- ___Zonas verdes:___ _Sí (1), No (0)._\n",
    "- ___Precio___\n",
    "\n",
    "_Se utilizaron las primeras 6 variables (tipo, años, área, habitaciones, baños y parqueaderos) para entrear el modelo y crear los clusters, ya que son éstas variables las que determinar los requisitos explícitos de los clientes._\n",
    "\n",
    "_Por otro lado, para la selección de los inmuebles a sugerir, se utilizaron las prioridades de los clientes, mediante el cálculo de pesos, usando la siguiente fórmula:_\n",
    "\n",
    "> __prioridad1 x 0.8 + prioridad2 x 0.6 + prioridad3 x 0.4 + prioridad4 x 0.2__\n",
    "\n",
    "_Donde la prioridad1 corresponde a la variable que el cliente posicionó en primer lugar, la prioridad2 es la que colocó en el siguiente lugar, y así sucesivamente._"
   ]
  },
  {
   "cell_type": "markdown",
   "metadata": {},
   "source": [
    "__Implemente la solución en Python al problema propuesto indicando la versión de Python usada para el ejercicio. __"
   ]
  },
  {
   "cell_type": "code",
   "execution_count": 329,
   "metadata": {},
   "outputs": [],
   "source": [
    "#Python 3.0\n",
    "\n",
    "import numpy as np\n",
    "import pandas as pd\n",
    "import matplotlib.pyplot as plt\n",
    "from sklearn.cluster import KMeans\n",
    "import warnings\n",
    "warnings.filterwarnings('ignore')"
   ]
  },
  {
   "cell_type": "code",
   "execution_count": 330,
   "metadata": {},
   "outputs": [],
   "source": [
    "#Read data\n",
    "data_orig = pd.read_csv('metrocuadrado.csv')\n",
    "data = pd.read_csv('metrocuadrado_clusters.csv')\n",
    "X_clusters = data.iloc[:,:6]\n",
    "X_mean = X_clusters.mean()\n",
    "X_std = X_clusters.std()\n",
    "X_clusters = (X_clusters-X_mean)/ X_std\n",
    "X_clusters = X_clusters.fillna(0)"
   ]
  },
  {
   "cell_type": "code",
   "execution_count": 313,
   "metadata": {},
   "outputs": [],
   "source": [
    "#Train model\n",
    "est = KMeans(n_clusters=20)\n",
    "\n",
    "clusters = est.fit(X_clusters)\n",
    "labels = clusters.labels_"
   ]
  },
  {
   "cell_type": "code",
   "execution_count": 314,
   "metadata": {},
   "outputs": [],
   "source": [
    "#Add labels to data\n",
    "data['clusters'] = labels"
   ]
  },
  {
   "cell_type": "code",
   "execution_count": 315,
   "metadata": {},
   "outputs": [],
   "source": [
    "def predict(input_y,priorities,data,data_orig):\n",
    "    \n",
    "    #Select cluster\n",
    "    Y = est.predict(input_y)\n",
    "\n",
    "    #Normalize values from property list\n",
    "    pl = data.loc[data.clusters == Y[0]]\n",
    "    pl[\"area\"] = (pl[\"area\"]-pl[\"area\"].min())/pl[\"area\"].max()\n",
    "    pl[\"anos_construido\"] = (pl[\"anos_construido\"]-pl[\"anos_construido\"].min())/pl[\"anos_construido\"].max()\n",
    "    pl[\"estrato\"] = (pl[\"estrato\"]-pl[\"estrato\"].min())/pl[\"estrato\"].max()\n",
    "    pl[\"precio\"] = ((1/pl.loc[:,\"precio\"])-(1/pl.loc[:,\"precio\"]).min())/(1/pl.loc[:,\"precio\"]).max()\n",
    "\n",
    "    #Select 5 properties according to weights\n",
    "    indexes = pl.loc[:,priorities[0]] * 0.8 + pl.loc[:,priorities[1]] * 0.6 + pl.loc[:,priorities[2]] * 0.4 + pl[priorities[3]] * 0.2\n",
    "    data_orig[\"index\"] = indexes\n",
    "    data_orig = data_orig.sort_values(\"index\",ascending=False)\n",
    "    suggestion = data_orig.iloc[:5,:-1]\n",
    "\n",
    "    return suggestion"
   ]
  },
  {
   "cell_type": "markdown",
   "metadata": {},
   "source": [
    "_A continuación se muestra un ejemplo del modelo el uso, donde se asume que un cliente llena la siguiente información en el formulario:_\n",
    "\n",
    "- __Preguntas técnicas:__ Apartamento, En construcción, 100 metros, 3 habitaciones, 2 baños y 1 parqueadero.\n",
    "\n",
    "- __Prioridades:__ Lo más importante para el cliente, de mayor a menor, es el estrato, el precio, los años de construido, el área y la existencia de zonas verdes.\n",
    "\n",
    "_Una vez se corre el modelo, podemos ver las 5 sugerencias._"
   ]
  },
  {
   "cell_type": "code",
   "execution_count": 327,
   "metadata": {},
   "outputs": [
    {
     "name": "stdout",
     "output_type": "stream",
     "text": [
      "[17]\n"
     ]
    },
    {
     "data": {
      "text/html": [
       "<div>\n",
       "<style scoped>\n",
       "    .dataframe tbody tr th:only-of-type {\n",
       "        vertical-align: middle;\n",
       "    }\n",
       "\n",
       "    .dataframe tbody tr th {\n",
       "        vertical-align: top;\n",
       "    }\n",
       "\n",
       "    .dataframe thead th {\n",
       "        text-align: right;\n",
       "    }\n",
       "</style>\n",
       "<table border=\"1\" class=\"dataframe\">\n",
       "  <thead>\n",
       "    <tr style=\"text-align: right;\">\n",
       "      <th></th>\n",
       "      <th>tipo</th>\n",
       "      <th>anos_construido</th>\n",
       "      <th>area</th>\n",
       "      <th>habitaciones</th>\n",
       "      <th>banos</th>\n",
       "      <th>parqueaderos</th>\n",
       "      <th>estrato</th>\n",
       "      <th>patio</th>\n",
       "      <th>precio</th>\n",
       "    </tr>\n",
       "  </thead>\n",
       "  <tbody>\n",
       "    <tr>\n",
       "      <th>4746</th>\n",
       "      <td>apartamento</td>\n",
       "      <td>en-construccion</td>\n",
       "      <td>160.0</td>\n",
       "      <td>2.0</td>\n",
       "      <td>2.0</td>\n",
       "      <td>2.0</td>\n",
       "      <td>4.0</td>\n",
       "      <td>No</td>\n",
       "      <td>$1,320,000,000</td>\n",
       "    </tr>\n",
       "    <tr>\n",
       "      <th>4326</th>\n",
       "      <td>apartamento</td>\n",
       "      <td>en-construccion</td>\n",
       "      <td>130.4</td>\n",
       "      <td>2.0</td>\n",
       "      <td>2.0</td>\n",
       "      <td>2.0</td>\n",
       "      <td>4.0</td>\n",
       "      <td>No</td>\n",
       "      <td>$1,040,000,000</td>\n",
       "    </tr>\n",
       "    <tr>\n",
       "      <th>3580</th>\n",
       "      <td>apartamento</td>\n",
       "      <td>en-construccion</td>\n",
       "      <td>106.0</td>\n",
       "      <td>2.0</td>\n",
       "      <td>2.0</td>\n",
       "      <td>2.0</td>\n",
       "      <td>4.0</td>\n",
       "      <td>No</td>\n",
       "      <td>$750,000,000</td>\n",
       "    </tr>\n",
       "    <tr>\n",
       "      <th>2347</th>\n",
       "      <td>apartamento</td>\n",
       "      <td>en-construccion</td>\n",
       "      <td>64.0</td>\n",
       "      <td>2.0</td>\n",
       "      <td>2.0</td>\n",
       "      <td>2.0</td>\n",
       "      <td>4.0</td>\n",
       "      <td>Sí</td>\n",
       "      <td>$465,000,000</td>\n",
       "    </tr>\n",
       "    <tr>\n",
       "      <th>3320</th>\n",
       "      <td>apartamento</td>\n",
       "      <td>en-construccion</td>\n",
       "      <td>97.0</td>\n",
       "      <td>2.0</td>\n",
       "      <td>2.0</td>\n",
       "      <td>2.0</td>\n",
       "      <td>4.0</td>\n",
       "      <td>No</td>\n",
       "      <td>$680,000,000</td>\n",
       "    </tr>\n",
       "  </tbody>\n",
       "</table>\n",
       "</div>"
      ],
      "text/plain": [
       "             tipo  anos_construido   area  habitaciones  banos  parqueaderos  \\\n",
       "4746  apartamento  en-construccion  160.0           2.0    2.0           2.0   \n",
       "4326  apartamento  en-construccion  130.4           2.0    2.0           2.0   \n",
       "3580  apartamento  en-construccion  106.0           2.0    2.0           2.0   \n",
       "2347  apartamento  en-construccion   64.0           2.0    2.0           2.0   \n",
       "3320  apartamento  en-construccion   97.0           2.0    2.0           2.0   \n",
       "\n",
       "      estrato patio           precio  \n",
       "4746      4.0    No  $1,320,000,000   \n",
       "4326      4.0    No  $1,040,000,000   \n",
       "3580      4.0    No    $750,000,000   \n",
       "2347      4.0    Sí    $465,000,000   \n",
       "3320      4.0    No    $680,000,000   "
      ]
     },
     "execution_count": 327,
     "metadata": {},
     "output_type": "execute_result"
    }
   ],
   "source": [
    "input_y=[[0,5,100,3,2,1]]\n",
    "input_y = (input_y-np.array(X_mean))/np.array(X_std)\n",
    "priorities=[\"estrato\",\"precio\",\"anos_construido\",\"area\",\"patio\"]\n",
    "suggestion = predict(input_y,priorities,data,data_orig)\n",
    "suggestion"
   ]
  },
  {
   "cell_type": "markdown",
   "metadata": {},
   "source": [
    "__Basado en la implementación anterior proponga como crear un feedback que alimente el sistema e impleméntelo.__"
   ]
  },
  {
   "cell_type": "markdown",
   "metadata": {},
   "source": [
    "_Una vez se coloque el modelo en uso, se debe trabajar en la creación de una nueva base de datos que contenga, los datos demográficos del cliente, así como las características explícitas del inmueble seleccionado._"
   ]
  },
  {
   "cell_type": "markdown",
   "metadata": {},
   "source": [
    "### Modelo #2: Incluye feedback"
   ]
  },
  {
   "cell_type": "markdown",
   "metadata": {},
   "source": [
    "__Seleccione un nuevo método para analizar el problema y explique el porqué de su elección.__"
   ]
  },
  {
   "cell_type": "markdown",
   "metadata": {},
   "source": [
    "_Después de conseguir una cantidad importante de observaciones (feedback), se puede pasar a entrenar un modelo de tipo __supervisado__, donde las elecciones de clientes antigüos, puedan ser utilizadas para la predicción de las elecciones de clientes futuros._\n",
    "\n",
    "_Teniendo en cuenta que la decisión de adquirir un inmueble consiste en una sucesión de decisiones en cuanto a las diferentes variables que tiene cada inmueble, se estima que un algoritmo de __árbol de decisión__ puede entender los patrones detrás de cada decisión._"
   ]
  },
  {
   "cell_type": "markdown",
   "metadata": {},
   "source": [
    "__Basado en el punto anterior proponga un modelo que permita solucionar el caso de estudio y explique cuál es la importancia de cada ítem del modelo, cuanto aporta porcentualmente cada ítem al modelo y cuál fue la razón de asignarle esos pesos a cada uno.__"
   ]
  },
  {
   "cell_type": "markdown",
   "metadata": {},
   "source": [
    "_Teniendo en cuenta que son 6 las variables técnicas que se almacenan del inmueble seleccionado por cada cliente, se crean 6 árboles de decisión, cada uno de ellos teniendo en cuenta los datos demográficos de los clientes y una de las variables del inmueble como clase._\n",
    "\n",
    "_Una vez se entrena el modelo, este funciona de la siguiente manera:_\n",
    "- Se solicita la información demográfica y la clasificación de prioridades del cliente nuevo.\n",
    "- Cada uno de los árboles de decisión (6 en total) determina el valor ideal de cada variable, de acuerdo con la información demográfica del cliente (ej: casa, de 5 a 10 años, 120 m, 3 habs, 2 baños y 1 parquedero).\n",
    "- Conociendo los valores de cada variable explícita, se procede a filtrar los inmuebles que cumplen con dichas condiciones.\n",
    "- Una vez filtrados, se seleccionan los inmuebles a sugerir basados en las prioridades de los clientes, utilizando la misma fórmula explicada en el ejercicio anterior."
   ]
  },
  {
   "cell_type": "markdown",
   "metadata": {},
   "source": [
    "__Implemente la solución en Python al problema propuesto indicando la versión de Python usada para el ejercicio.__"
   ]
  },
  {
   "cell_type": "code",
   "execution_count": 368,
   "metadata": {},
   "outputs": [],
   "source": [
    "#Python 3.0\n",
    "from sklearn.tree import DecisionTreeClassifier,DecisionTreeRegressor"
   ]
  },
  {
   "cell_type": "code",
   "execution_count": 394,
   "metadata": {},
   "outputs": [],
   "source": [
    "#Read data\n",
    "demo_data = pd.read_csv(\"metrocuadrado_feedback.csv\")\n",
    "property_database = pd.read_csv(\"metrocuadrado.csv\")\n",
    "\n",
    "X = demo_data.iloc[:,:6]\n",
    "y_anos = demo_data.loc[:,\"anos_construido\"]\n",
    "y_tipo = demo_data.loc[:,\"tipo\"]\n",
    "y_area = demo_data.loc[:,\"area\"]\n",
    "y_habs = demo_data.loc[:,\"habitaciones\"]\n",
    "y_banos = demo_data.loc[:,\"banos\"]\n",
    "y_parq = demo_data.loc[:,\"parqueaderos\"]"
   ]
  },
  {
   "cell_type": "code",
   "execution_count": 395,
   "metadata": {},
   "outputs": [
    {
     "data": {
      "text/plain": [
       "DecisionTreeClassifier(class_weight=None, criterion='gini', max_depth=None,\n",
       "            max_features=None, max_leaf_nodes=3, min_impurity_decrease=0.0,\n",
       "            min_impurity_split=None, min_samples_leaf=1,\n",
       "            min_samples_split=2, min_weight_fraction_leaf=0.0,\n",
       "            presort=False, random_state=0, splitter='best')"
      ]
     },
     "execution_count": 395,
     "metadata": {},
     "output_type": "execute_result"
    }
   ],
   "source": [
    "#Train model\n",
    "est_anos = DecisionTreeClassifier(max_leaf_nodes=3, random_state=0)\n",
    "est_anos.fit(X, y_anos)\n",
    "est_tipo = DecisionTreeClassifier(max_leaf_nodes=3, random_state=0)\n",
    "est_tipo.fit(X, y_tipo)\n",
    "est_area = DecisionTreeRegressor(max_leaf_nodes=3, random_state=0)\n",
    "est_area.fit(X, y_area)\n",
    "est_habs = DecisionTreeClassifier(max_leaf_nodes=3, random_state=0)\n",
    "est_habs.fit(X, y_habs)\n",
    "est_banos = DecisionTreeClassifier(max_leaf_nodes=3, random_state=0)\n",
    "est_banos.fit(X, y_banos)\n",
    "est_parq = DecisionTreeClassifier(max_leaf_nodes=3, random_state=0)\n",
    "est_parq.fit(X, y_parq)"
   ]
  },
  {
   "cell_type": "code",
   "execution_count": 399,
   "metadata": {},
   "outputs": [],
   "source": [
    "def predict_fb(demo,priorities,demo_data,property_database):\n",
    "    \n",
    "    #Predict values\n",
    "    anos = est_anos.predict(demo)\n",
    "    tipo = est_tipo.predict(demo)\n",
    "    area = est_area.predict(demo)\n",
    "    habs = est_habs.predict(demo)\n",
    "    banos = est_banos.predict(demo)\n",
    "    parq = est_parq.predict(demo)\n",
    "\n",
    "    #Filter out properties\n",
    "    pl = demo_data[(demo_data.anos_construido==anos[0]) & (demo_data.tipo==tipo[0]) & (demo_data.habitaciones==habs[0]) & (demo_data.banos>=banos[0]) & (demo_data.parqueaderos>=parq[0]) & (demo_data.area > (area[0]-10)) & (demo_data.area < (area[0]+50))]\n",
    "    pl[\"area\"] = (pl[\"area\"]-pl[\"area\"].min())/pl[\"area\"].max()\n",
    "    pl[\"anos_construido\"] = (pl[\"anos_construido\"]-pl[\"anos_construido\"].min())/pl[\"anos_construido\"].max()\n",
    "    pl[\"estrato\"] = (pl[\"estrato\"]-pl[\"estrato\"].min())/pl[\"estrato\"].max()\n",
    "    pl[\"precio\"] = ((1/pl.loc[:,\"precio\"])-(1/pl.loc[:,\"precio\"]).min())/(1/pl.loc[:,\"precio\"]).max()\n",
    "    \n",
    "    #Select 5 properties according to weights\n",
    "    indexes = pl.loc[:,priorities[0]] * 0.8 + pl.loc[:,priorities[1]] * 0.6 + pl.loc[:,priorities[2]] * 0.4 + pl[priorities[3]] * 0.2\n",
    "    property_database[\"index\"] = indexes\n",
    "    property_database = property_database.sort_values(\"index\",ascending=False)\n",
    "    suggestion = property_database.iloc[:5,:-1]\n",
    "\n",
    "    return suggestion"
   ]
  },
  {
   "cell_type": "markdown",
   "metadata": {},
   "source": [
    "_A continuación se muestra un ejemplo del modelo el uso, donde se evalúa un cliente con las siguiente características demográficas y prioridades:_\n",
    "\n",
    "- __Información demográfica:__ Masculino (1),26 años (26), Casado (1), Posgrado (4), Sin hijos (0), Sin carro (0).\n",
    "\n",
    "- __Prioridades:__ Lo más importante para el cliente, de mayor a menor, es el estrato, el precio, los años de construido, el área y la existencia de zonas verdes.\n",
    "\n",
    "_Una vez se corre el modelo, podemos ver las 5 sugerencias._"
   ]
  },
  {
   "cell_type": "code",
   "execution_count": 400,
   "metadata": {},
   "outputs": [
    {
     "data": {
      "text/html": [
       "<div>\n",
       "<style scoped>\n",
       "    .dataframe tbody tr th:only-of-type {\n",
       "        vertical-align: middle;\n",
       "    }\n",
       "\n",
       "    .dataframe tbody tr th {\n",
       "        vertical-align: top;\n",
       "    }\n",
       "\n",
       "    .dataframe thead th {\n",
       "        text-align: right;\n",
       "    }\n",
       "</style>\n",
       "<table border=\"1\" class=\"dataframe\">\n",
       "  <thead>\n",
       "    <tr style=\"text-align: right;\">\n",
       "      <th></th>\n",
       "      <th>tipo</th>\n",
       "      <th>anos_construido</th>\n",
       "      <th>area</th>\n",
       "      <th>habitaciones</th>\n",
       "      <th>banos</th>\n",
       "      <th>parqueaderos</th>\n",
       "      <th>estrato</th>\n",
       "      <th>patio</th>\n",
       "      <th>precio</th>\n",
       "    </tr>\n",
       "  </thead>\n",
       "  <tbody>\n",
       "    <tr>\n",
       "      <th>1124</th>\n",
       "      <td>apartamento</td>\n",
       "      <td>Más de 20 años</td>\n",
       "      <td>70.0</td>\n",
       "      <td>3.0</td>\n",
       "      <td>2.0</td>\n",
       "      <td>1.0</td>\n",
       "      <td>3.0</td>\n",
       "      <td>No</td>\n",
       "      <td>$285,000,000</td>\n",
       "    </tr>\n",
       "    <tr>\n",
       "      <th>1417</th>\n",
       "      <td>apartamento</td>\n",
       "      <td>Más de 20 años</td>\n",
       "      <td>82.0</td>\n",
       "      <td>3.0</td>\n",
       "      <td>2.0</td>\n",
       "      <td>1.0</td>\n",
       "      <td>3.0</td>\n",
       "      <td>Sí</td>\n",
       "      <td>$330,000,000</td>\n",
       "    </tr>\n",
       "    <tr>\n",
       "      <th>1416</th>\n",
       "      <td>apartamento</td>\n",
       "      <td>Más de 20 años</td>\n",
       "      <td>82.0</td>\n",
       "      <td>3.0</td>\n",
       "      <td>3.0</td>\n",
       "      <td>1.0</td>\n",
       "      <td>3.0</td>\n",
       "      <td>Sí</td>\n",
       "      <td>$330,000,000</td>\n",
       "    </tr>\n",
       "    <tr>\n",
       "      <th>1269</th>\n",
       "      <td>apartamento</td>\n",
       "      <td>Más de 20 años</td>\n",
       "      <td>72.0</td>\n",
       "      <td>3.0</td>\n",
       "      <td>2.0</td>\n",
       "      <td>2.0</td>\n",
       "      <td>3.0</td>\n",
       "      <td>No</td>\n",
       "      <td>$310,000,000</td>\n",
       "    </tr>\n",
       "    <tr>\n",
       "      <th>1268</th>\n",
       "      <td>apartamento</td>\n",
       "      <td>Más de 20 años</td>\n",
       "      <td>72.0</td>\n",
       "      <td>3.0</td>\n",
       "      <td>2.0</td>\n",
       "      <td>2.0</td>\n",
       "      <td>3.0</td>\n",
       "      <td>Sí</td>\n",
       "      <td>$310,000,000</td>\n",
       "    </tr>\n",
       "  </tbody>\n",
       "</table>\n",
       "</div>"
      ],
      "text/plain": [
       "             tipo anos_construido  area  habitaciones  banos  parqueaderos  \\\n",
       "1124  apartamento  Más de 20 años  70.0           3.0    2.0           1.0   \n",
       "1417  apartamento  Más de 20 años  82.0           3.0    2.0           1.0   \n",
       "1416  apartamento  Más de 20 años  82.0           3.0    3.0           1.0   \n",
       "1269  apartamento  Más de 20 años  72.0           3.0    2.0           2.0   \n",
       "1268  apartamento  Más de 20 años  72.0           3.0    2.0           2.0   \n",
       "\n",
       "      estrato patio         precio  \n",
       "1124      3.0    No  $285,000,000   \n",
       "1417      3.0    Sí  $330,000,000   \n",
       "1416      3.0    Sí  $330,000,000   \n",
       "1269      3.0    No  $310,000,000   \n",
       "1268      3.0    Sí  $310,000,000   "
      ]
     },
     "execution_count": 400,
     "metadata": {},
     "output_type": "execute_result"
    }
   ],
   "source": [
    "demo = [[1,26,1,4,0,0]]\n",
    "priorities = [\"estrato\",\"precio\",\"anos_construido\",\"area\",\"patio\"]\n",
    "suggestion = predict_fb(demo,priorities,demo_data,property_database)\n",
    "suggestion"
   ]
  }
 ],
 "metadata": {
  "kernelspec": {
   "display_name": "Python 3",
   "language": "python",
   "name": "python3"
  },
  "language_info": {
   "codemirror_mode": {
    "name": "ipython",
    "version": 3
   },
   "file_extension": ".py",
   "mimetype": "text/x-python",
   "name": "python",
   "nbconvert_exporter": "python",
   "pygments_lexer": "ipython3",
   "version": "3.5.2"
  }
 },
 "nbformat": 4,
 "nbformat_minor": 2
}
